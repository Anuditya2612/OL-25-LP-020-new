{
 "cells": [
  {
   "cell_type": "markdown",
   "id": "1d49f18f",
   "metadata": {},
   "source": [
    "# What is the task we will perform in this notebook?"
   ]
  },
  {
   "cell_type": "markdown",
   "id": "fa516c63",
   "metadata": {},
   "source": [
    " **Classification Task:**\n",
    "\n",
    " Objective: Predict whether a person is likely to seek mental health treatment (treatment column: yes/no)\n",
    "\n",
    " Input Features: Workplace support, past diagnosis, family history, leave policies, etc.\n",
    " \n",
    " Algorithms to Try: Logistic Regression, Random Forest, XGBoost, SVM, etc.\n",
    " \n",
    " Evaluation: Accuracy, ROC-AUC, Confusion Matrix, F1 Score"
   ]
  },
  {
   "cell_type": "markdown",
   "id": "7775da23",
   "metadata": {},
   "source": [
    "So let's embark.."
   ]
  },
  {
   "cell_type": "markdown",
   "id": "c5712927",
   "metadata": {},
   "source": [
    "# Importing libraries"
   ]
  },
  {
   "cell_type": "code",
   "execution_count": 2,
   "id": "d706b58e",
   "metadata": {},
   "outputs": [],
   "source": [
    "import pandas as pd\n",
    "import numpy as np\n",
    "import joblib"
   ]
  },
  {
   "cell_type": "markdown",
   "id": "97cdeda3",
   "metadata": {},
   "source": [
    "# Loading and reading the input dataset"
   ]
  },
  {
   "cell_type": "code",
   "execution_count": 3,
   "id": "cd132432",
   "metadata": {},
   "outputs": [
    {
     "name": "stdout",
     "output_type": "stream",
     "text": [
      "<class 'pandas.core.frame.DataFrame'>\n",
      "RangeIndex: 1228 entries, 0 to 1227\n",
      "Data columns (total 35 columns):\n",
      " #   Column                     Non-Null Count  Dtype \n",
      "---  ------                     --------------  ----- \n",
      " 0   Timestamp                  1228 non-null   object\n",
      " 1   Age                        1228 non-null   int64 \n",
      " 2   Country                    1228 non-null   object\n",
      " 3   state                      730 non-null    object\n",
      " 4   self_employed              1228 non-null   int64 \n",
      " 5   family_history             1228 non-null   object\n",
      " 6   treatment                  1228 non-null   object\n",
      " 7   work_interfere             1228 non-null   object\n",
      " 8   no_employees               1228 non-null   object\n",
      " 9   remote_work                1228 non-null   object\n",
      " 10  tech_company               1228 non-null   object\n",
      " 11  benefits                   1228 non-null   object\n",
      " 12  care_options               1228 non-null   object\n",
      " 13  wellness_program           1228 non-null   object\n",
      " 14  seek_help                  1228 non-null   object\n",
      " 15  anonymity                  1228 non-null   object\n",
      " 16  leave                      1228 non-null   object\n",
      " 17  mental_health_consequence  1228 non-null   object\n",
      " 18  phys_health_consequence    1228 non-null   object\n",
      " 19  coworkers                  1228 non-null   object\n",
      " 20  supervisor                 1228 non-null   object\n",
      " 21  mental_health_interview    1228 non-null   object\n",
      " 22  phys_health_interview      1228 non-null   object\n",
      " 23  mental_vs_physical         1228 non-null   object\n",
      " 24  obs_consequence            1228 non-null   object\n",
      " 25  comments                   159 non-null    object\n",
      " 26  age_cate                   1228 non-null   object\n",
      " 27  states_top                 1228 non-null   int64 \n",
      " 28  genders_grouped            1228 non-null   object\n",
      " 29  Gender_encoded             1228 non-null   int64 \n",
      " 30  Countries_top              1228 non-null   int64 \n",
      " 31  work_inter_encoded         1228 non-null   int64 \n",
      " 32  ages_encoded               1228 non-null   int64 \n",
      " 33  benefits_encoded           1228 non-null   int64 \n",
      " 34  treatment_encoded          1228 non-null   int64 \n",
      "dtypes: int64(9), object(26)\n",
      "memory usage: 335.9+ KB\n"
     ]
    }
   ],
   "source": [
    "df=pd.read_csv('data/cleaned_survey_data.csv')\n",
    "df.info()"
   ]
  },
  {
   "cell_type": "markdown",
   "id": "63148321",
   "metadata": {},
   "source": [
    "# A few more requisite libraries"
   ]
  },
  {
   "cell_type": "code",
   "execution_count": 4,
   "id": "cc86e0fc",
   "metadata": {},
   "outputs": [],
   "source": [
    "from sklearn.model_selection import train_test_split\n",
    "from sklearn.linear_model import LogisticRegression\n",
    "from sklearn.metrics import accuracy_score, confusion_matrix, f1_score\n"
   ]
  },
  {
   "cell_type": "markdown",
   "id": "73050e13",
   "metadata": {},
   "source": [
    "This time we use OneHotEncoder instead of LabelEncoder to get categorical features as integral"
   ]
  },
  {
   "cell_type": "code",
   "execution_count": 5,
   "id": "09f89b56",
   "metadata": {},
   "outputs": [],
   "source": [
    "from sklearn.preprocessing import OneHotEncoder\n",
    "ohe=OneHotEncoder(handle_unknown=\"ignore\")"
   ]
  },
  {
   "cell_type": "code",
   "execution_count": 6,
   "id": "defd1420",
   "metadata": {},
   "outputs": [],
   "source": [
    "#X=df[['benefits_encoded','co_encoded','fh_encoded','leave_encoded','wp_encoded','seek_help_encoded','mhi_encoded']]\n",
    "#y=df['treatment_encoded']"
   ]
  },
  {
   "cell_type": "markdown",
   "id": "7af07023",
   "metadata": {},
   "source": [
    "# Libraries to build a Pipeline with a ColumnTransformer"
   ]
  },
  {
   "cell_type": "code",
   "execution_count": 7,
   "id": "11f21848",
   "metadata": {},
   "outputs": [],
   "source": [
    "from sklearn.preprocessing import StandardScaler\n",
    "from sklearn.compose import ColumnTransformer\n",
    "from sklearn.impute import SimpleImputer\n",
    "from sklearn.pipeline import Pipeline\n"
   ]
  },
  {
   "cell_type": "markdown",
   "id": "950a439f",
   "metadata": {},
   "source": [
    "# Defining numerical and categorical features separately from the dataset to feed into the pipeline"
   ]
  },
  {
   "cell_type": "code",
   "execution_count": 8,
   "id": "c8118ad8",
   "metadata": {},
   "outputs": [],
   "source": [
    "cat_features=['benefits','care_options','family_history','leave','wellness_program','seek_help','mental_health_interview']\n",
    "num_features=['Gender_encoded','ages_encoded']"
   ]
  },
  {
   "cell_type": "markdown",
   "id": "560d6394",
   "metadata": {},
   "source": [
    "# And defining X and y from these numerical and categorical features"
   ]
  },
  {
   "cell_type": "code",
   "execution_count": 9,
   "id": "2c77fa29",
   "metadata": {},
   "outputs": [],
   "source": [
    "X=df[cat_features+num_features]\n",
    "y=df['treatment_encoded']"
   ]
  },
  {
   "cell_type": "markdown",
   "id": "4dfea4ea",
   "metadata": {},
   "source": [
    "# Checking distribution in full dataset"
   ]
  },
  {
   "cell_type": "code",
   "execution_count": 10,
   "id": "e8b275f7",
   "metadata": {},
   "outputs": [
    {
     "name": "stdout",
     "output_type": "stream",
     "text": [
      "treatment_encoded\n",
      "1    622\n",
      "0    606\n",
      "Name: count, dtype: int64 \n",
      "\n",
      "Proportion:\n",
      "treatment_encoded\n",
      "1    0.506515\n",
      "0    0.493485\n",
      "Name: proportion, dtype: float64\n"
     ]
    },
    {
     "data": {
      "image/png": "[encoded data removed]",
      "text/plain": [
       "<Figure size 640x480 with 1 Axes>"
      ]
     },
     "metadata": {},
     "output_type": "display_data"
    }
   ],
   "source": [
    "y.value_counts(normalize=True).plot(kind='bar', color=['salmon', 'green'], title='Class Distribution')\n",
    "print(y.value_counts(), \"\\n\\nProportion:\")\n",
    "print(y.value_counts(normalize=True))\n"
   ]
  },
  {
   "cell_type": "markdown",
   "id": "a984ed14",
   "metadata": {},
   "source": [
    "# Now we split the dataset into training and test data"
   ]
  },
  {
   "cell_type": "code",
   "execution_count": 11,
   "id": "757ae0ad",
   "metadata": {},
   "outputs": [],
   "source": [
    "X_train,X_test,y_train,y_test=train_test_split(X,y,test_size=0.2, random_state=42)"
   ]
  },
  {
   "cell_type": "markdown",
   "id": "9848a2dc",
   "metadata": {},
   "source": [
    "# Applying preprocessing on the categorical and the numerical features"
   ]
  },
  {
   "cell_type": "code",
   "execution_count": 12,
   "id": "31d4ca57",
   "metadata": {},
   "outputs": [],
   "source": [
    "num_trans=Pipeline(steps=[('imputer',SimpleImputer(strategy='median')),('scaler',StandardScaler())])\n",
    "cate_trans=Pipeline(steps=[('onehotenco',OneHotEncoder(handle_unknown=\"ignore\"))])"
   ]
  },
  {
   "cell_type": "markdown",
   "id": "457c9226",
   "metadata": {},
   "source": [
    "# Plugging together the prior built transformers into preprocessor"
   ]
  },
  {
   "cell_type": "code",
   "execution_count": 13,
   "id": "42757267",
   "metadata": {},
   "outputs": [],
   "source": [
    "preprocessor=ColumnTransformer(transformers=[(\"num\",num_trans,num_features),(\"cate\",cate_trans,cat_features)])"
   ]
  },
  {
   "cell_type": "markdown",
   "id": "8ec84d90",
   "metadata": {},
   "source": [
    "# And finally we build a pipeline with the model Logistic Regression"
   ]
  },
  {
   "cell_type": "code",
   "execution_count": 14,
   "id": "1c12e8c7",
   "metadata": {},
   "outputs": [],
   "source": [
    "pipeline=Pipeline(steps=[(\"preprocessor\",preprocessor),(\"classifier\",LogisticRegression(max_iter=1000))])"
   ]
  },
  {
   "cell_type": "markdown",
   "id": "872e5bc5",
   "metadata": {},
   "source": [
    "# Now we make predictions on the target feature using the pipeline"
   ]
  },
  {
   "cell_type": "code",
   "execution_count": 15,
   "id": "086c7f85",
   "metadata": {},
   "outputs": [],
   "source": [
    "pipeline.fit(X_train,y_train)\n",
    "y_pred=pipeline.predict(X_test)"
   ]
  },
  {
   "cell_type": "markdown",
   "id": "22423105",
   "metadata": {},
   "source": [
    "# Now we import evaluation metrics from scikit-learn"
   ]
  },
  {
   "cell_type": "code",
   "execution_count": 16,
   "id": "5b5524ce",
   "metadata": {},
   "outputs": [],
   "source": [
    "from sklearn.metrics import accuracy_score, confusion_matrix, f1_score, roc_auc_score"
   ]
  },
  {
   "cell_type": "markdown",
   "id": "01064479",
   "metadata": {},
   "source": [
    "Accuracy score for Logistic Regression"
   ]
  },
  {
   "cell_type": "code",
   "execution_count": 17,
   "id": "75475aed",
   "metadata": {},
   "outputs": [
    {
     "name": "stdout",
     "output_type": "stream",
     "text": [
      "Accuracy: 0.695\n"
     ]
    }
   ],
   "source": [
    "accu=accuracy_score(y_test,y_pred)\n",
    "print(f\"Accuracy: {accu:.3f}\")"
   ]
  },
  {
   "cell_type": "markdown",
   "id": "3de4bb05",
   "metadata": {},
   "source": [
    "Here it can be inferred that the model classifies around 7 out of 10 people correctly whether they chose to seek treatment or not, given the accuracy is aorund 69.5% (~ 70%).\n",
    "\n",
    "So the model learns a few patterns from the input features, but it is still not excellent in terms of making predictions.\n",
    "\n",
    "The model also skips few important signals about people who were classified wrongly and might be in need of urgent requirement for treatment in this case."
   ]
  },
  {
   "cell_type": "markdown",
   "id": "d74a3c20",
   "metadata": {},
   "source": [
    "ROC-AUC score:"
   ]
  },
  {
   "cell_type": "markdown",
   "id": "f291d2cd",
   "metadata": {},
   "source": [
    "'Receiver Operating Characteristic - Area under curve' measures model's ability to distinguish between classes."
   ]
  },
  {
   "cell_type": "code",
   "execution_count": 18,
   "id": "44aa440d",
   "metadata": {},
   "outputs": [
    {
     "name": "stdout",
     "output_type": "stream",
     "text": [
      "ROC AUC score:0.6907\n"
     ]
    }
   ],
   "source": [
    "y_proba=pipeline.predict_proba(X_test)\n",
    "roc_auc=roc_auc_score(y_test,y_pred)\n",
    "print(f\"ROC AUC score:{roc_auc:.4f}\")"
   ]
  },
  {
   "cell_type": "markdown",
   "id": "4b9b2e80",
   "metadata": {},
   "source": [
    "On average the model assigns a higher score to positive case of whether the person sought treatment for mental health problem than a negative one around ~69% of time."
   ]
  },
  {
   "cell_type": "markdown",
   "id": "b48c755e",
   "metadata": {},
   "source": [
    "The Confusion Matrix"
   ]
  },
  {
   "cell_type": "code",
   "execution_count": 19,
   "id": "04d746de",
   "metadata": {},
   "outputs": [
    {
     "name": "stdout",
     "output_type": "stream",
     "text": [
      "Confusion Matrix: \n",
      "[[ 71  38]\n",
      " [ 37 100]]\n"
     ]
    }
   ],
   "source": [
    "cm=confusion_matrix(y_test,y_pred)\n",
    "print(f\"Confusion Matrix: \\n{cm}\")"
   ]
  },
  {
   "cell_type": "markdown",
   "id": "67e32dea",
   "metadata": {},
   "source": [
    "Rows : Actual classes\n",
    "\n",
    "Columns: Predicted classes"
   ]
  },
  {
   "cell_type": "markdown",
   "id": "8e709951",
   "metadata": {},
   "source": [
    "Assuming first row and column is for 0 i.e. not seeking treatment, and the 2nd one for 1 i.e. taking tgreatment, We get around 71 True negatives and 100 True positives.\n",
    "\n",
    "Additionally, we got 38 False positives, and 37 False negatives. **Here we can infer that the model isn't heavily biased towards one class either 0 or 1 and the errors are balanced.**"
   ]
  },
  {
   "cell_type": "markdown",
   "id": "3f807dc3",
   "metadata": {},
   "source": [
    "And the f1 score"
   ]
  },
  {
   "cell_type": "code",
   "execution_count": 20,
   "id": "6dee7acd",
   "metadata": {},
   "outputs": [
    {
     "name": "stdout",
     "output_type": "stream",
     "text": [
      "F-1 Score: 0.7273\n"
     ]
    }
   ],
   "source": [
    "f1=f1_score(y_test,y_pred)\n",
    "print(f\"F-1 Score: {f1:.4f}\")"
   ]
  },
  {
   "cell_type": "markdown",
   "id": "18c3a293",
   "metadata": {},
   "source": [
    "This score is the Harmonic Mean of precision and recall, where precision is 0.724 and recall is 0.730. We get f1 score equal to ~0.727 which is a moderate one. The model performs pretty much same when it comes to catching Yes cases and avoiding false alarms in case of No case."
   ]
  },
  {
   "cell_type": "markdown",
   "id": "7abd2284",
   "metadata": {},
   "source": [
    "# Now we import the libraries required to execute other algorithms"
   ]
  },
  {
   "cell_type": "code",
   "execution_count": 21,
   "id": "716ab5d9",
   "metadata": {},
   "outputs": [],
   "source": [
    "import xgboost \n",
    "from sklearn.ensemble import RandomForestClassifier\n",
    "from sklearn.svm import SVC\n",
    "from xgboost import XGBClassifier"
   ]
  },
  {
   "cell_type": "markdown",
   "id": "37327add",
   "metadata": {},
   "source": [
    "# Plugging these models into the pipeline along with preprocessor"
   ]
  },
  {
   "cell_type": "code",
   "execution_count": 22,
   "id": "f19aedeb",
   "metadata": {},
   "outputs": [],
   "source": [
    "models={\n",
    "    'Random Forest': Pipeline([('preprocessor',preprocessor),('classifier',RandomForestClassifier(n_estimators=100))]),\n",
    "\n",
    "    'SVM':Pipeline([('preprocessor',preprocessor),('classifier',SVC(probability=True))]),\n",
    "\n",
    "    'XGBoost':Pipeline([('preprocessor',preprocessor),('classifier',XGBClassifier(use_label_encoder=False, eval_metric='logloss'))])\n",
    "}"
   ]
  },
  {
   "cell_type": "markdown",
   "id": "51b62008",
   "metadata": {},
   "source": [
    "# And here's a look at the evaluation metrics for these models"
   ]
  },
  {
   "cell_type": "code",
   "execution_count": 23,
   "id": "cab7f6ac",
   "metadata": {},
   "outputs": [
    {
     "name": "stdout",
     "output_type": "stream",
     "text": [
      "\n",
      " Model: Random Forest\n",
      "Accuracy: 0.6016260162601627\n",
      "Confusion Matrix:\n",
      " [[75 34]\n",
      " [64 73]]\n",
      "F-1 score: 0.5983606557377049\n",
      "ROC-AUC score: 0.6461\n",
      "Classification Report:\n",
      "               precision    recall  f1-score   support\n",
      "\n",
      "           0       0.54      0.69      0.60       109\n",
      "           1       0.68      0.53      0.60       137\n",
      "\n",
      "    accuracy                           0.60       246\n",
      "   macro avg       0.61      0.61      0.60       246\n",
      "weighted avg       0.62      0.60      0.60       246\n",
      "\n",
      "\n",
      " Model: SVM\n",
      "Accuracy: 0.6991869918699187\n",
      "Confusion Matrix:\n",
      " [[ 72  37]\n",
      " [ 37 100]]\n",
      "F-1 score: 0.7299270072992701\n",
      "ROC-AUC score: 0.7321\n",
      "Classification Report:\n",
      "               precision    recall  f1-score   support\n",
      "\n",
      "           0       0.66      0.66      0.66       109\n",
      "           1       0.73      0.73      0.73       137\n",
      "\n",
      "    accuracy                           0.70       246\n",
      "   macro avg       0.70      0.70      0.70       246\n",
      "weighted avg       0.70      0.70      0.70       246\n",
      "\n",
      "\n",
      " Model: XGBoost\n"
     ]
    },
    {
     "name": "stderr",
     "output_type": "stream",
     "text": [
      "c:\\Users\\anudi\\Desktop\\Capstone Project\\.venv\\Lib\\site-packages\\xgboost\\training.py:183: UserWarning: [15:45:28] WARNING: C:\\actions-runner\\_work\\xgboost\\xgboost\\src\\learner.cc:738: \n",
      "Parameters: { \"use_label_encoder\" } are not used.\n",
      "\n",
      "  bst.update(dtrain, iteration=i, fobj=obj)\n"
     ]
    },
    {
     "name": "stdout",
     "output_type": "stream",
     "text": [
      "Accuracy: 0.6056910569105691\n",
      "Confusion Matrix:\n",
      " [[73 36]\n",
      " [61 76]]\n",
      "F-1 score: 0.6104417670682731\n",
      "ROC-AUC score: 0.6649\n",
      "Classification Report:\n",
      "               precision    recall  f1-score   support\n",
      "\n",
      "           0       0.54      0.67      0.60       109\n",
      "           1       0.68      0.55      0.61       137\n",
      "\n",
      "    accuracy                           0.61       246\n",
      "   macro avg       0.61      0.61      0.61       246\n",
      "weighted avg       0.62      0.61      0.61       246\n",
      "\n"
     ]
    }
   ],
   "source": [
    "from sklearn.metrics import classification_report\n",
    "for name,model in models.items():\n",
    "    print(f\"\\n Model: {name}\")\n",
    "    model.fit(X_train,y_train)\n",
    "    y_pred=model.predict(X_test)\n",
    "    y_proba1=model.predict_proba(X_test)[:, 1]\n",
    "    rocauc_score=roc_auc_score(y_test, y_proba1)\n",
    "    print(\"Accuracy:\", accuracy_score(y_test, y_pred))\n",
    "    print(\"Confusion Matrix:\\n\",confusion_matrix(y_test, y_pred))\n",
    "    print(\"F-1 score:\", f1_score(y_test, y_pred))\n",
    "    print(\"ROC-AUC score:\",round(rocauc_score, 4))\n",
    "    print(\"Classification Report:\\n\",classification_report(y_test,y_pred))"
   ]
  },
  {
   "cell_type": "markdown",
   "id": "2d6c0d1d",
   "metadata": {},
   "source": [
    "# Final Inferences:"
   ]
  },
  {
   "cell_type": "markdown",
   "id": "da6374ae",
   "metadata": {},
   "source": [
    "Out of the 3 models we trained above, SVM performs the best with it having an accuracy of 69.9% (~70%), while RandomForest and XGBoost have pretty much equal accuracy of around 60.5%. So the target is a bit noisy feature and none of the 3 models manages to perform spectacularly well while doing the classification task."
   ]
  },
  {
   "cell_type": "markdown",
   "id": "078680e7",
   "metadata": {},
   "source": [
    "SVM is better known to handle smaller datasets with higher dimensions when the decision boundaries are complex, and since the cleaned dataset is not too large so that could the reason why we see the SVM performing fairly well. However, Logistic Regression and especially RandomForest might be underfitting here."
   ]
  },
  {
   "cell_type": "markdown",
   "id": "f7602217",
   "metadata": {},
   "source": [
    "The little weaker performance of the other models like RandomForest and XGBoost could be due to the featueres not having strong splits and there being weaker signals. Also as we don't perform hyperparameter tuning (due to time constraints), we might not be getting the best performance with the default parameters used, and they might be under/over fitting."
   ]
  },
  {
   "cell_type": "markdown",
   "id": "b738dbaf",
   "metadata": {},
   "source": [
    "In terms of the ROC-AUC score, SVM is ahead od the other 3 models which means the class distribution is done more correctly in this case. It finds a better decision boundary in case of SVM than Logistic Regression and Ensemble tree based models. Also since the no. of features are high (high dimensional data) so SVM handles it better in high dimensional settings, with features on different scales which we scale using Standard Scaler."
   ]
  },
  {
   "cell_type": "markdown",
   "id": "2480a443",
   "metadata": {},
   "source": [
    "# Now we save the pipeline containing the estimator Logistic Regression"
   ]
  },
  {
   "cell_type": "code",
   "execution_count": 24,
   "id": "5c5fa43f",
   "metadata": {},
   "outputs": [
    {
     "data": {
      "text/plain": [
       "['logistic_regression.pkl']"
      ]
     },
     "execution_count": 24,
     "metadata": {},
     "output_type": "execute_result"
    }
   ],
   "source": [
    "joblib.dump(pipeline, 'logistic_regression.pkl')"
   ]
  },
  {
   "cell_type": "markdown",
   "id": "7364ef85",
   "metadata": {},
   "source": [
    "# And also the pipeline named 'models' using the other 3 models"
   ]
  },
  {
   "cell_type": "code",
   "execution_count": 25,
   "id": "1492b6ca",
   "metadata": {},
   "outputs": [
    {
     "data": {
      "text/plain": [
       "['classification_tasks.pkl']"
      ]
     },
     "execution_count": 25,
     "metadata": {},
     "output_type": "execute_result"
    }
   ],
   "source": [
    "joblib.dump(models, 'classification_tasks.pkl')"
   ]
  },
  {
   "cell_type": "code",
   "execution_count": 26,
   "id": "3bc0e45b",
   "metadata": {},
   "outputs": [
    {
     "name": "stdout",
     "output_type": "stream",
     "text": [
      "<class 'dict'>\n",
      "{'Random Forest': Pipeline(steps=[('preprocessor',\n",
      "                 ColumnTransformer(transformers=[('num',\n",
      "                                                  Pipeline(steps=[('imputer',\n",
      "                                                                   SimpleImputer(strategy='median')),\n",
      "                                                                  ('scaler',\n",
      "                                                                   StandardScaler())]),\n",
      "                                                  ['Gender_encoded',\n",
      "                                                   'ages_encoded']),\n",
      "                                                 ('cate',\n",
      "                                                  Pipeline(steps=[('onehotenco',\n",
      "                                                                   OneHotEncoder(handle_unknown='ignore'))]),\n",
      "                                                  ['benefits', 'care_options',\n",
      "                                                   'family_history', 'leave',\n",
      "                                                   'wellness_program',\n",
      "                                                   'seek_help',\n",
      "                                                   'mental_health_interview'])])),\n",
      "                ('classifier', RandomForestClassifier())]), 'SVM': Pipeline(steps=[('preprocessor',\n",
      "                 ColumnTransformer(transformers=[('num',\n",
      "                                                  Pipeline(steps=[('imputer',\n",
      "                                                                   SimpleImputer(strategy='median')),\n",
      "                                                                  ('scaler',\n",
      "                                                                   StandardScaler())]),\n",
      "                                                  ['Gender_encoded',\n",
      "                                                   'ages_encoded']),\n",
      "                                                 ('cate',\n",
      "                                                  Pipeline(steps=[('onehotenco',\n",
      "                                                                   OneHotEncoder(handle_unknown='ignore'))]),\n",
      "                                                  ['benefits', 'care_options',\n",
      "                                                   'family_history', 'leave',\n",
      "                                                   'wellness_program',\n",
      "                                                   'seek_help',\n",
      "                                                   'mental_health_interview'])])),\n",
      "                ('classifier', SVC(probability=True))]), 'XGBoost': Pipeline(steps=[('preprocessor',\n",
      "                 ColumnTransformer(transformers=[('num',\n",
      "                                                  Pipeline(steps=[('imputer',\n",
      "                                                                   SimpleImputer(strategy='median')),\n",
      "                                                                  ('scaler',\n",
      "                                                                   StandardScaler())]),\n",
      "                                                  ['Gender_encoded',\n",
      "                                                   'ages_encoded']),\n",
      "                                                 ('cate',\n",
      "                                                  Pipeline(steps=[('onehotenco',\n",
      "                                                                   OneHotEncoder(handle_unknown='ignore'))]),\n",
      "                                                  ['benefits', 'care_options',\n",
      "                                                   'family_history', 'leave',\n",
      "                                                   'wellness_program',\n",
      "                                                   's...\n",
      "                               feature_types=None, feature_weights=None,\n",
      "                               gamma=None, grow_policy=None,\n",
      "                               importance_type=None,\n",
      "                               interaction_constraints=None, learning_rate=None,\n",
      "                               max_bin=None, max_cat_threshold=None,\n",
      "                               max_cat_to_onehot=None, max_delta_step=None,\n",
      "                               max_depth=None, max_leaves=None,\n",
      "                               min_child_weight=None, missing=nan,\n",
      "                               monotone_constraints=None, multi_strategy=None,\n",
      "                               n_estimators=None, n_jobs=None,\n",
      "                               num_parallel_tree=None, ...))])}\n"
     ]
    }
   ],
   "source": [
    "import joblib\n",
    "\n",
    "models = joblib.load(\"models/classification_tasks.pkl\")\n",
    "print(type(models))\n",
    "print(models)\n"
   ]
  }
 ],
 "metadata": {
  "kernelspec": {
   "display_name": ".venv",
   "language": "python",
   "name": "python3"
  },
  "language_info": {
   "codemirror_mode": {
    "name": "ipython",
    "version": 3
   },
   "file_extension": ".py",
   "mimetype": "text/x-python",
   "name": "python",
   "nbconvert_exporter": "python",
   "pygments_lexer": "ipython3",
   "version": "3.12.7"
  }
 },
 "nbformat": 4,
 "nbformat_minor": 5
}
